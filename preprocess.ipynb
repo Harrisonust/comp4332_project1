{
 "cells": [
  {
   "cell_type": "code",
   "execution_count": null,
   "metadata": {},
   "outputs": [],
   "source": [
    "import numpy as np\n",
    "import utils\n",
    "import spacy\n",
    "import pandas as pd\n",
    "import tqdm"
   ]
  },
  {
   "cell_type": "code",
   "execution_count": null,
   "metadata": {},
   "outputs": [],
   "source": [
    "train_df = pd.read_csv('data/train.csv')\n",
    "valid_df = pd.read_csv('data/valid.csv')\n",
    "test_df = pd.read_csv('data/test.csv')\n",
    "\n",
    "train_df = train_df[['review_id', 'text', 'stars']][:5]\n",
    "valid_df = valid_df[['review_id', 'text', 'stars']] [:5]\n",
    "test_df = test_df[['review_id', 'text']][:5]\n",
    "\n",
    "print(train_df.head())\n",
    "print(valid_df.head())\n",
    "print(test_df.head())"
   ]
  },
  {
   "cell_type": "code",
   "execution_count": null,
   "metadata": {},
   "outputs": [],
   "source": [
    "def create_word_embed_vec(corpus):\n",
    "    maxlen = 128\n",
    "    embed_features = 96\n",
    "    nlp = spacy.load('en_core_web_sm')\n",
    "\n",
    "    corpus_copy = corpus.copy()\n",
    "    corpus_copy = corpus_copy.map(lambda x: utils.tokenize(x)).map(lambda x: utils.stem(x)).map(lambda x: \" \".join(x))\n",
    "\n",
    "    word_embed_vec = np.zeros(shape=(len(corpus_copy), maxlen, embed_features))\n",
    "\n",
    "    for outter_index, doc in tqdm.tqdm(enumerate(corpus_copy)):\n",
    "        doc_vec = np.zeros(shape=(maxlen, embed_features))\n",
    "        for inner_index, word in enumerate(doc):\n",
    "            if inner_index > maxlen-1:\n",
    "                break\n",
    "            v = nlp(word).vector\n",
    "            doc_vec[inner_index] = v\n",
    "        word_embed_vec[outter_index] = doc_vec\n",
    "    return word_embed_vec\n",
    "    "
   ]
  },
  {
   "cell_type": "code",
   "execution_count": null,
   "metadata": {},
   "outputs": [],
   "source": [
    "train_word_embed_vec = create_word_embed_vec(train_df['text'])\n",
    "print(train_word_embed_vec.shape)\n",
    "train_df['word_embed'] = train_word_embed_vec.reshape(5, -1).tolist()\n",
    "train_df.to_csv('data/train_word2.csv', index=False)"
   ]
  },
  {
   "cell_type": "code",
   "execution_count": null,
   "metadata": {},
   "outputs": [],
   "source": [
    "valid_word_embed_vec = create_word_embed_vec(valid_df['text'])\n",
    "print(valid_word_embed_vec.shape)\n",
    "valid_df['word_embed'] = valid_word_embed_vec.reshape(5, -1).tolist()\n",
    "valid_df.to_csv('data/valid_word2.csv', index=False)"
   ]
  },
  {
   "cell_type": "code",
   "execution_count": null,
   "metadata": {},
   "outputs": [],
   "source": [
    "test_word_embed_vec = create_word_embed_vec(test_df['text'])\n",
    "print(test_word_embed_vec.shape)\n",
    "test_df['word_embed'] = test_word_embed_vec.reshape(5, -1).tolist()\n",
    "test_df.to_csv('data/test_word2.csv', index=False)"
   ]
  }
 ],
 "metadata": {
  "kernelspec": {
   "display_name": "Python 3.10.9 ('fyp')",
   "language": "python",
   "name": "python3"
  },
  "language_info": {
   "codemirror_mode": {
    "name": "ipython",
    "version": 3
   },
   "file_extension": ".py",
   "mimetype": "text/x-python",
   "name": "python",
   "nbconvert_exporter": "python",
   "pygments_lexer": "ipython3",
   "version": "3.10.9"
  },
  "orig_nbformat": 4,
  "vscode": {
   "interpreter": {
    "hash": "5688be1e860b42f6f5c12c91b9e760acd4617dc2b5a7f23aa820cef89e5a00a0"
   }
  }
 },
 "nbformat": 4,
 "nbformat_minor": 2
}
